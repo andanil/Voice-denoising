{
 "cells": [
  {
   "cell_type": "code",
   "execution_count": 1,
   "metadata": {},
   "outputs": [],
   "source": [
    "import numpy as np\n",
    "import pandas as pd\n",
    "import os"
   ]
  },
  {
   "cell_type": "code",
   "execution_count": 2,
   "metadata": {},
   "outputs": [],
   "source": [
    "train_dir = './data/train'\n",
    "val_dir = './data/val'"
   ]
  },
  {
   "cell_type": "code",
   "execution_count": 3,
   "metadata": {},
   "outputs": [],
   "source": [
    "def get_files_list(dir_name):\n",
    "    files_list = []\n",
    "    for path, subdirs, files in os.walk(dir_name):\n",
    "        for name in files:\n",
    "            files_list += [os.path.join(path, name)]\n",
    "    return files_list"
   ]
  },
  {
   "cell_type": "code",
   "execution_count": 4,
   "metadata": {},
   "outputs": [],
   "source": [
    "def get_lengths(files):\n",
    "    lengths = []\n",
    "    for file in files:\n",
    "        lengths += [np.load(file).shape[0]]\n",
    "    return lengths"
   ]
  },
  {
   "cell_type": "code",
   "execution_count": 5,
   "metadata": {},
   "outputs": [],
   "source": [
    "noisy_val_files = get_files_list(os.path.join(val_dir, 'noisy'))\n",
    "clean_val_files = get_files_list(os.path.join(val_dir, 'clean'))\n",
    "\n",
    "noisy_train_files = get_files_list(os.path.join(train_dir, 'noisy'))\n",
    "clean_train_files = get_files_list(os.path.join(train_dir, 'clean'))"
   ]
  },
  {
   "cell_type": "code",
   "execution_count": 6,
   "metadata": {},
   "outputs": [],
   "source": [
    "noisy_val_lens = get_lengths(noisy_val_files)\n",
    "clean_val_lens = get_lengths(clean_val_files)\n",
    "\n",
    "noisy_train_lens = get_lengths(noisy_train_files)\n",
    "clean_train_lens = get_lengths(clean_train_files)"
   ]
  },
  {
   "cell_type": "code",
   "execution_count": 11,
   "metadata": {},
   "outputs": [],
   "source": [
    "lengths = noisy_val_lens + clean_val_lens + noisy_train_lens + clean_train_lens"
   ]
  },
  {
   "cell_type": "code",
   "execution_count": 12,
   "metadata": {},
   "outputs": [
    {
     "data": {
      "image/png": "[encoded data removed]",
      "text/plain": [
       "<Figure size 432x288 with 1 Axes>"
      ]
     },
     "metadata": {
      "needs_background": "light"
     },
     "output_type": "display_data"
    }
   ],
   "source": [
    "import matplotlib.pyplot as plt\n",
    "\n",
    "plt.hist(lengths, 50, color ='green', alpha = 0.7);"
   ]
  },
  {
   "cell_type": "code",
   "execution_count": 13,
   "metadata": {},
   "outputs": [],
   "source": [
    "length = 256"
   ]
  },
  {
   "cell_type": "code",
   "execution_count": 15,
   "metadata": {},
   "outputs": [],
   "source": [
    "def create_dataset_for_classif(noisy, clean, noisy_lengths, clean_lengths):\n",
    "    return pd.concat([pd.DataFrame({'path': noisy, 'class': [1] * len(noisy), 'len': noisy_lengths}), \n",
    "                     pd.DataFrame({'path': clean, 'class': [0] * len(clean), 'len': clean_lengths})])"
   ]
  },
  {
   "cell_type": "code",
   "execution_count": 16,
   "metadata": {},
   "outputs": [],
   "source": [
    "val_df = create_dataset_for_classif(noisy_val_files, clean_val_files, noisy_val_lens, clean_val_lens)\n",
    "train_df = create_dataset_for_classif(noisy_train_files, clean_train_files, noisy_train_lens, clean_train_lens)"
   ]
  },
  {
   "cell_type": "code",
   "execution_count": 17,
   "metadata": {},
   "outputs": [],
   "source": [
    "val_df = val_df[val_df['len'] >= length]\n",
    "train_df = train_df[train_df['len'] >= length]"
   ]
  },
  {
   "cell_type": "code",
   "execution_count": 18,
   "metadata": {},
   "outputs": [],
   "source": [
    "val_df.to_json('./data/annotations_classif_val.json', orient='records')\n",
    "train_df.to_json('./data/annotations_classif_train.json', orient='records')"
   ]
  },
  {
   "cell_type": "code",
   "execution_count": 19,
   "metadata": {},
   "outputs": [],
   "source": [
    "val_df = pd.DataFrame({'noisy': noisy_val_files, 'clean': clean_val_files, 'len': clean_val_lens}) \n",
    "train_df = pd.DataFrame({'noisy': noisy_train_files, 'clean': clean_train_files, 'len': clean_train_lens}) "
   ]
  },
  {
   "cell_type": "code",
   "execution_count": 20,
   "metadata": {},
   "outputs": [],
   "source": [
    "val_df = val_df[val_df['len'] >= length]\n",
    "train_df = train_df[train_df['len'] >= length]"
   ]
  },
  {
   "cell_type": "code",
   "execution_count": 21,
   "metadata": {},
   "outputs": [],
   "source": [
    "val_df.to_json('./data/annotations_denoising_val.json', orient='records')\n",
    "train_df.to_json('./data/annotations_denoising_train.json', orient='records')"
   ]
  }
 ],
 "metadata": {
  "kernelspec": {
   "display_name": "Python 3 (ipykernel)",
   "language": "python",
   "name": "python3"
  },
  "language_info": {
   "codemirror_mode": {
    "name": "ipython",
    "version": 3
   },
   "file_extension": ".py",
   "mimetype": "text/x-python",
   "name": "python",
   "nbconvert_exporter": "python",
   "pygments_lexer": "ipython3",
   "version": "3.8.5"
  }
 },
 "nbformat": 4,
 "nbformat_minor": 2
}
